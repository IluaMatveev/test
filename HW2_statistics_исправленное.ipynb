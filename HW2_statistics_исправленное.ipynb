{
 "cells": [
  {
   "cell_type": "code",
   "execution_count": 133,
   "metadata": {},
   "outputs": [],
   "source": [
    "from scipy import stats\n",
    "import pandas as pd\n",
    "import numpy as np\n",
    "import random"
   ]
  },
  {
   "cell_type": "code",
   "execution_count": 134,
   "metadata": {},
   "outputs": [],
   "source": [
    "data = pd.read_csv( 'hw_25000.csv', names = ['index', 'height', 'weight'], header = 1, delimiter=\";\" )\n",
    "data[\"heightcm\"]=data[\"height\"]*2.54"
   ]
  },
  {
   "cell_type": "code",
   "execution_count": 135,
   "metadata": {},
   "outputs": [],
   "source": [
    "Sample=data[data[\"heightcm\"]>170]"
   ]
  },
  {
   "cell_type": "code",
   "execution_count": 137,
   "metadata": {},
   "outputs": [],
   "source": [
    "a=np.array(stats.ttest_1samp(Sample[Sample[\"heightcm\"]<180]['weight'].sample(20),data['weight'].mean()))"
   ]
  },
  {
   "cell_type": "code",
   "execution_count": 138,
   "metadata": {},
   "outputs": [
    {
     "name": "stdout",
     "output_type": "stream",
     "text": [
      "Есть значимые различия, p-value=0.01\n"
     ]
    }
   ],
   "source": [
    "if a[1] > 0.05:\n",
    "    print (\"Значимих различий нет, p-value={}\".format(a[1].round(2)))\n",
    "else:\n",
    "    print (\"Есть значимые различия, p-value={}\".format(a[1].round(2)))"
   ]
  }
 ],
 "metadata": {
  "kernelspec": {
   "display_name": "Python 3",
   "language": "python",
   "name": "python3"
  },
  "language_info": {
   "codemirror_mode": {
    "name": "ipython",
    "version": 3
   },
   "file_extension": ".py",
   "mimetype": "text/x-python",
   "name": "python",
   "nbconvert_exporter": "python",
   "pygments_lexer": "ipython3",
   "version": "3.6.3"
  }
 },
 "nbformat": 4,
 "nbformat_minor": 2
}
