{
 "cells": [
  {
   "cell_type": "code",
   "execution_count": 26,
   "metadata": {},
   "outputs": [],
   "source": [
    "from scipy import stats\n",
    "import pandas as pd\n",
    "import numpy as np"
   ]
  },
  {
   "cell_type": "code",
   "execution_count": 58,
   "metadata": {},
   "outputs": [],
   "source": [
    "data = pd.read_csv( 'hw_25000.csv', names = ['index', 'height', 'weight'], header = 1, delimiter=\";\" )"
   ]
  },
  {
   "cell_type": "code",
   "execution_count": 114,
   "metadata": {},
   "outputs": [
    {
     "name": "stdout",
     "output_type": "stream",
     "text": [
      "Значимих различий нет, p-value=0.7\n"
     ]
    }
   ],
   "source": [
    "a=np.array(stats.ttest_1samp(data['weight'].sample(20),data['weight'].mean()))\n",
    "if a[1] > 0.05:\n",
    "    print (\"Значимих различий нет, p-value={}\".format(a[1].round(2)))\n",
    "else:\n",
    "    print (\"Есть значимые различия, p-value={}\".format(a[1].round(2)))"
   ]
  }
 ],
 "metadata": {
  "kernelspec": {
   "display_name": "Python 3",
   "language": "python",
   "name": "python3"
  },
  "language_info": {
   "codemirror_mode": {
    "name": "ipython",
    "version": 3
   },
   "file_extension": ".py",
   "mimetype": "text/x-python",
   "name": "python",
   "nbconvert_exporter": "python",
   "pygments_lexer": "ipython3",
   "version": "3.6.3"
  }
 },
 "nbformat": 4,
 "nbformat_minor": 2
}
